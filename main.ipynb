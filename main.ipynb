{
 "cells": [
  {
   "cell_type": "code",
   "execution_count": 9,
   "id": "eb66143f",
   "metadata": {
    "id": "eb66143f"
   },
   "outputs": [],
   "source": [
    "import numpy as np\n",
    "import os\n",
    "import torch\n",
    "import torch.nn as nn\n",
    "import torch.nn.init as init\n",
    "from torch.utils.data import Dataset,DataLoader,TensorDataset\n",
    "from tqdm import tqdm\n",
    "import torch.nn.functional as F\n",
    "\n",
    "from Models.ResNetmodel import resnet34\n",
    "from DataUtils.load_dataset import QuickDrawDataset"
   ]
  },
  {
   "cell_type": "code",
   "execution_count": 10,
   "id": "e1b038fc",
   "metadata": {
    "id": "e1b038fc"
   },
   "outputs": [],
   "source": [
    "#훈련 파라미터\n",
    "USE_CUDA = torch.cuda.is_available()\n",
    "DEVICE = torch.device(\"cuda\" if USE_CUDA else \"cpu\")\n",
    "num_epochs=30\n",
    "gamma=0.1\n",
    "image_size=28\n",
    "learning_rate=0.1\n",
    "lr_decay_step=[12,20]\n",
    "momentum=0.9\n",
    "weight_decay=0.0005"
   ]
  },
  {
   "cell_type": "code",
   "execution_count": 11,
   "id": "52ca134f",
   "metadata": {
    "colab": {
     "base_uri": "https://localhost:8080/"
    },
    "id": "52ca134f",
    "outputId": "6b4ecb21-226c-416f-a199-30713c328a6c"
   },
   "outputs": [
    {
     "name": "stdout",
     "output_type": "stream",
     "text": [
      "Train image num: 124000\n",
      "Test image num: 31000\n"
     ]
    }
   ],
   "source": [
    "#훈련데이터\n",
    "train_dataset=QuickDrawDataset(dtype='train')\n",
    "train_loader=DataLoader(dataset=train_dataset,batch_size=256,shuffle=True)\n",
    "\n",
    "#테스트 데이터\n",
    "test_dataset=QuickDrawDataset(dtype='test')\n",
    "test_loader=DataLoader(dataset=test_dataset,batch_size=64,shuffle=True)\n",
    "\n",
    "num_classes=train_dataset.get_num_classes()\n",
    "\n",
    "print(\"Train image num:\",len(train_dataset))\n",
    "print(\"Test image num:\",len(test_dataset))"
   ]
  },
  {
   "cell_type": "code",
   "execution_count": 12,
   "id": "550a0211",
   "metadata": {
    "colab": {
     "base_uri": "https://localhost:8080/"
    },
    "id": "550a0211",
    "outputId": "b9638066-8797-4cb3-ef74-365e81f42a8a"
   },
   "outputs": [
    {
     "name": "stderr",
     "output_type": "stream",
     "text": [
      "/usr/local/lib/python3.10/dist-packages/torchvision/models/_utils.py:135: UserWarning: Using 'weights' as positional parameter(s) is deprecated since 0.13 and may be removed in the future. Please use keyword parameter(s) instead.\n",
      "  warnings.warn(\n",
      "/usr/local/lib/python3.10/dist-packages/torchvision/models/_utils.py:223: UserWarning: Arguments other than a weight enum or `None` for 'weights' are deprecated since 0.13 and may be removed in the future. The current behavior is equivalent to passing `weights=None`.\n",
      "  warnings.warn(msg)\n"
     ]
    }
   ],
   "source": [
    "model=resnet34(num_classes).to(DEVICE)\n",
    "optimizer=torch.optim.SGD(model.parameters(),lr=learning_rate,\n",
    "                         momentum=momentum,weight_decay=weight_decay)"
   ]
  },
  {
   "cell_type": "code",
   "execution_count": 13,
   "id": "28ff975e",
   "metadata": {
    "id": "28ff975e"
   },
   "outputs": [],
   "source": [
    "#훈련 결과 파라미터\n",
    "train_loss=0.0\n",
    "train_accuracy=0.0\n",
    "test_loss=0.0\n",
    "test_accuracy=0.0"
   ]
  },
  {
   "cell_type": "code",
   "execution_count": 14,
   "id": "acee301b",
   "metadata": {
    "id": "acee301b"
   },
   "outputs": [],
   "source": [
    "def train():\n",
    "    global train_loss\n",
    "    global train_accuracy\n",
    "\n",
    "    model.train()\n",
    "    loss_avg=0.0\n",
    "    correct=0\n",
    "    data_loader=tqdm(train_loader,desc='Training')\n",
    "\n",
    "    for batch_idx,(data,target) in enumerate(data_loader):\n",
    "        data,target=torch.autograd.Variable(data.to(DEVICE)),torch.autograd.Variable(target.to(DEVICE))\n",
    "\n",
    "        data=data.view(-1,1,28,28)\n",
    "        data/=255.0\n",
    "\n",
    "        output=model(data)\n",
    "\n",
    "        optimizer.zero_grad()\n",
    "        loss=F.cross_entropy(output,target)\n",
    "        loss.backward()\n",
    "        optimizer.step()\n",
    "\n",
    "        pred=output.data.max(1)[1]\n",
    "        correct=correct+float(pred.eq(target.data).sum())\n",
    "        loss_avg=loss_avg*0.2+float(loss)*0.8\n",
    "\n",
    "    train_loss=loss_avg\n",
    "    train_accuracy=correct/len(train_loader.dataset)\n",
    "    print(correct,\"a:\",train_accuracy)"
   ]
  },
  {
   "cell_type": "code",
   "execution_count": 15,
   "id": "652cceb6",
   "metadata": {
    "id": "652cceb6"
   },
   "outputs": [],
   "source": [
    "def test():\n",
    "    global test_loss\n",
    "    global test_accuracy\n",
    "    model.eval()\n",
    "    loss_avg = 0.0\n",
    "    correct = 0\n",
    "\n",
    "    data_loader=tqdm(test_loader,desc='Testing')\n",
    "\n",
    "    for batch_idx,(data,target) in enumerate(data_loader):\n",
    "        data,target=torch.autograd.Variable(data.to(DEVICE)),torch.autograd.Variable(target.to(DEVICE))\n",
    "\n",
    "        data=data.view(-1,1,28,28)\n",
    "        data/=255.0\n",
    "\n",
    "        output=model(data)\n",
    "\n",
    "        optimizer.zero_grad()\n",
    "        loss=F.cross_entropy(output,target)\n",
    "\n",
    "        pred=output.data.max(1)[1]\n",
    "        correct=correct+float(pred.eq(target.data).sum())\n",
    "\n",
    "\n",
    "\n",
    "        loss_avg=loss_avg+float(loss)\n",
    "\n",
    "    test_loss=loss_avg/len(test_loader)\n",
    "    test_accuracy=correct/len(test_loader.dataset)\n",
    "    print(correct,\"a:\",test_accuracy)\n"
   ]
  },
  {
   "cell_type": "code",
   "execution_count": 16,
   "id": "af1fbd0c",
   "metadata": {
    "colab": {
     "base_uri": "https://localhost:8080/"
    },
    "id": "af1fbd0c",
    "outputId": "80b14922-211a-44b3-e43e-c2dbda6da411"
   },
   "outputs": [
    {
     "name": "stdout",
     "output_type": "stream",
     "text": [
      "epoch 1 is running...\n"
     ]
    },
    {
     "name": "stderr",
     "output_type": "stream",
     "text": [
      "Training: 100%|██████████| 485/485 [00:57<00:00,  8.37it/s]\n"
     ]
    },
    {
     "name": "stdout",
     "output_type": "stream",
     "text": [
      "76625.0 a: 0.6179435483870968\n"
     ]
    },
    {
     "name": "stderr",
     "output_type": "stream",
     "text": [
      "Testing: 100%|██████████| 485/485 [00:04<00:00, 97.80it/s]\n"
     ]
    },
    {
     "name": "stdout",
     "output_type": "stream",
     "text": [
      "22269.0 a: 0.7183548387096774\n",
      "test accuracy: 0.7183548387096774\n",
      "Best Accuracy: 0.7184\n",
      "epoch 2 is running...\n"
     ]
    },
    {
     "name": "stderr",
     "output_type": "stream",
     "text": [
      "Training: 100%|██████████| 485/485 [00:57<00:00,  8.48it/s]\n"
     ]
    },
    {
     "name": "stdout",
     "output_type": "stream",
     "text": [
      "93566.0 a: 0.7545645161290323\n"
     ]
    },
    {
     "name": "stderr",
     "output_type": "stream",
     "text": [
      "Testing: 100%|██████████| 485/485 [00:05<00:00, 95.82it/s]\n"
     ]
    },
    {
     "name": "stdout",
     "output_type": "stream",
     "text": [
      "21297.0 a: 0.687\n",
      "test accuracy: 0.687\n",
      "Best Accuracy: 0.7184\n",
      "epoch 3 is running...\n"
     ]
    },
    {
     "name": "stderr",
     "output_type": "stream",
     "text": [
      "Training: 100%|██████████| 485/485 [00:57<00:00,  8.47it/s]\n"
     ]
    },
    {
     "name": "stdout",
     "output_type": "stream",
     "text": [
      "96949.0 a: 0.7818467741935484\n"
     ]
    },
    {
     "name": "stderr",
     "output_type": "stream",
     "text": [
      "Testing: 100%|██████████| 485/485 [00:05<00:00, 95.82it/s]\n"
     ]
    },
    {
     "name": "stdout",
     "output_type": "stream",
     "text": [
      "23702.0 a: 0.7645806451612903\n",
      "test accuracy: 0.7645806451612903\n",
      "Best Accuracy: 0.7646\n",
      "epoch 4 is running...\n"
     ]
    },
    {
     "name": "stderr",
     "output_type": "stream",
     "text": [
      "Training: 100%|██████████| 485/485 [00:57<00:00,  8.46it/s]\n"
     ]
    },
    {
     "name": "stdout",
     "output_type": "stream",
     "text": [
      "98734.0 a: 0.796241935483871\n"
     ]
    },
    {
     "name": "stderr",
     "output_type": "stream",
     "text": [
      "Testing: 100%|██████████| 485/485 [00:05<00:00, 95.27it/s]\n"
     ]
    },
    {
     "name": "stdout",
     "output_type": "stream",
     "text": [
      "23856.0 a: 0.7695483870967742\n",
      "test accuracy: 0.7695483870967742\n",
      "Best Accuracy: 0.7695\n",
      "epoch 5 is running...\n"
     ]
    },
    {
     "name": "stderr",
     "output_type": "stream",
     "text": [
      "Training: 100%|██████████| 485/485 [00:57<00:00,  8.47it/s]\n"
     ]
    },
    {
     "name": "stdout",
     "output_type": "stream",
     "text": [
      "99729.0 a: 0.804266129032258\n"
     ]
    },
    {
     "name": "stderr",
     "output_type": "stream",
     "text": [
      "Testing: 100%|██████████| 485/485 [00:05<00:00, 94.79it/s]\n"
     ]
    },
    {
     "name": "stdout",
     "output_type": "stream",
     "text": [
      "24262.0 a: 0.7826451612903226\n",
      "test accuracy: 0.7826451612903226\n",
      "Best Accuracy: 0.7826\n",
      "epoch 6 is running...\n"
     ]
    },
    {
     "name": "stderr",
     "output_type": "stream",
     "text": [
      "Training: 100%|██████████| 485/485 [00:57<00:00,  8.49it/s]\n"
     ]
    },
    {
     "name": "stdout",
     "output_type": "stream",
     "text": [
      "100313.0 a: 0.8089758064516129\n"
     ]
    },
    {
     "name": "stderr",
     "output_type": "stream",
     "text": [
      "Testing: 100%|██████████| 485/485 [00:05<00:00, 94.86it/s]\n"
     ]
    },
    {
     "name": "stdout",
     "output_type": "stream",
     "text": [
      "24539.0 a: 0.7915806451612903\n",
      "test accuracy: 0.7915806451612903\n",
      "Best Accuracy: 0.7916\n",
      "epoch 7 is running...\n"
     ]
    },
    {
     "name": "stderr",
     "output_type": "stream",
     "text": [
      "Training: 100%|██████████| 485/485 [00:57<00:00,  8.47it/s]\n"
     ]
    },
    {
     "name": "stdout",
     "output_type": "stream",
     "text": [
      "101053.0 a: 0.8149435483870968\n"
     ]
    },
    {
     "name": "stderr",
     "output_type": "stream",
     "text": [
      "Testing: 100%|██████████| 485/485 [00:05<00:00, 94.94it/s]\n"
     ]
    },
    {
     "name": "stdout",
     "output_type": "stream",
     "text": [
      "24301.0 a: 0.7839032258064517\n",
      "test accuracy: 0.7839032258064517\n",
      "Best Accuracy: 0.7916\n",
      "epoch 8 is running...\n"
     ]
    },
    {
     "name": "stderr",
     "output_type": "stream",
     "text": [
      "Training: 100%|██████████| 485/485 [00:57<00:00,  8.49it/s]\n"
     ]
    },
    {
     "name": "stdout",
     "output_type": "stream",
     "text": [
      "101575.0 a: 0.8191532258064517\n"
     ]
    },
    {
     "name": "stderr",
     "output_type": "stream",
     "text": [
      "Testing: 100%|██████████| 485/485 [00:05<00:00, 95.60it/s]\n"
     ]
    },
    {
     "name": "stdout",
     "output_type": "stream",
     "text": [
      "23939.0 a: 0.7722258064516129\n",
      "test accuracy: 0.7722258064516129\n",
      "Best Accuracy: 0.7916\n",
      "epoch 9 is running...\n"
     ]
    },
    {
     "name": "stderr",
     "output_type": "stream",
     "text": [
      "Training: 100%|██████████| 485/485 [00:57<00:00,  8.48it/s]\n"
     ]
    },
    {
     "name": "stdout",
     "output_type": "stream",
     "text": [
      "102002.0 a: 0.8225967741935484\n"
     ]
    },
    {
     "name": "stderr",
     "output_type": "stream",
     "text": [
      "Testing: 100%|██████████| 485/485 [00:05<00:00, 95.03it/s]\n"
     ]
    },
    {
     "name": "stdout",
     "output_type": "stream",
     "text": [
      "24354.0 a: 0.7856129032258065\n",
      "test accuracy: 0.7856129032258065\n",
      "Best Accuracy: 0.7916\n",
      "epoch 10 is running...\n"
     ]
    },
    {
     "name": "stderr",
     "output_type": "stream",
     "text": [
      "Training: 100%|██████████| 485/485 [00:57<00:00,  8.49it/s]\n"
     ]
    },
    {
     "name": "stdout",
     "output_type": "stream",
     "text": [
      "102526.0 a: 0.8268225806451613\n"
     ]
    },
    {
     "name": "stderr",
     "output_type": "stream",
     "text": [
      "Testing: 100%|██████████| 485/485 [00:05<00:00, 95.45it/s]\n"
     ]
    },
    {
     "name": "stdout",
     "output_type": "stream",
     "text": [
      "24285.0 a: 0.7833870967741936\n",
      "test accuracy: 0.7833870967741936\n",
      "Best Accuracy: 0.7916\n",
      "epoch 11 is running...\n"
     ]
    },
    {
     "name": "stderr",
     "output_type": "stream",
     "text": [
      "Training: 100%|██████████| 485/485 [00:57<00:00,  8.49it/s]\n"
     ]
    },
    {
     "name": "stdout",
     "output_type": "stream",
     "text": [
      "102878.0 a: 0.8296612903225806\n"
     ]
    },
    {
     "name": "stderr",
     "output_type": "stream",
     "text": [
      "Testing: 100%|██████████| 485/485 [00:05<00:00, 96.45it/s]\n"
     ]
    },
    {
     "name": "stdout",
     "output_type": "stream",
     "text": [
      "24064.0 a: 0.776258064516129\n",
      "test accuracy: 0.776258064516129\n",
      "Best Accuracy: 0.7916\n",
      "epoch 12 is running...\n"
     ]
    },
    {
     "name": "stderr",
     "output_type": "stream",
     "text": [
      "Training: 100%|██████████| 485/485 [00:57<00:00,  8.48it/s]\n"
     ]
    },
    {
     "name": "stdout",
     "output_type": "stream",
     "text": [
      "110063.0 a: 0.8876048387096774\n"
     ]
    },
    {
     "name": "stderr",
     "output_type": "stream",
     "text": [
      "Testing: 100%|██████████| 485/485 [00:05<00:00, 96.73it/s]\n"
     ]
    },
    {
     "name": "stdout",
     "output_type": "stream",
     "text": [
      "25529.0 a: 0.823516129032258\n",
      "test accuracy: 0.823516129032258\n",
      "Best Accuracy: 0.8235\n",
      "epoch 13 is running...\n"
     ]
    },
    {
     "name": "stderr",
     "output_type": "stream",
     "text": [
      "Training: 100%|██████████| 485/485 [00:57<00:00,  8.47it/s]\n"
     ]
    },
    {
     "name": "stdout",
     "output_type": "stream",
     "text": [
      "113210.0 a: 0.9129838709677419\n"
     ]
    },
    {
     "name": "stderr",
     "output_type": "stream",
     "text": [
      "Testing: 100%|██████████| 485/485 [00:04<00:00, 97.28it/s]\n"
     ]
    },
    {
     "name": "stdout",
     "output_type": "stream",
     "text": [
      "25404.0 a: 0.8194838709677419\n",
      "test accuracy: 0.8194838709677419\n",
      "Best Accuracy: 0.8235\n",
      "epoch 14 is running...\n"
     ]
    },
    {
     "name": "stderr",
     "output_type": "stream",
     "text": [
      "Training: 100%|██████████| 485/485 [00:57<00:00,  8.49it/s]\n"
     ]
    },
    {
     "name": "stdout",
     "output_type": "stream",
     "text": [
      "115529.0 a: 0.9316854838709677\n"
     ]
    },
    {
     "name": "stderr",
     "output_type": "stream",
     "text": [
      "Testing: 100%|██████████| 485/485 [00:04<00:00, 97.51it/s]\n"
     ]
    },
    {
     "name": "stdout",
     "output_type": "stream",
     "text": [
      "25197.0 a: 0.8128064516129032\n",
      "test accuracy: 0.8128064516129032\n",
      "Best Accuracy: 0.8235\n",
      "epoch 15 is running...\n"
     ]
    },
    {
     "name": "stderr",
     "output_type": "stream",
     "text": [
      "Training: 100%|██████████| 485/485 [00:57<00:00,  8.48it/s]\n"
     ]
    },
    {
     "name": "stdout",
     "output_type": "stream",
     "text": [
      "117842.0 a: 0.9503387096774194\n"
     ]
    },
    {
     "name": "stderr",
     "output_type": "stream",
     "text": [
      "Testing: 100%|██████████| 485/485 [00:04<00:00, 97.61it/s]\n"
     ]
    },
    {
     "name": "stdout",
     "output_type": "stream",
     "text": [
      "25098.0 a: 0.8096129032258065\n",
      "test accuracy: 0.8096129032258065\n",
      "Best Accuracy: 0.8235\n",
      "epoch 16 is running...\n"
     ]
    },
    {
     "name": "stderr",
     "output_type": "stream",
     "text": [
      "Training: 100%|██████████| 485/485 [00:57<00:00,  8.48it/s]\n"
     ]
    },
    {
     "name": "stdout",
     "output_type": "stream",
     "text": [
      "119598.0 a: 0.9645\n"
     ]
    },
    {
     "name": "stderr",
     "output_type": "stream",
     "text": [
      "Testing: 100%|██████████| 485/485 [00:05<00:00, 96.30it/s]\n"
     ]
    },
    {
     "name": "stdout",
     "output_type": "stream",
     "text": [
      "24947.0 a: 0.804741935483871\n",
      "test accuracy: 0.804741935483871\n",
      "Best Accuracy: 0.8235\n",
      "epoch 17 is running...\n"
     ]
    },
    {
     "name": "stderr",
     "output_type": "stream",
     "text": [
      "Training: 100%|██████████| 485/485 [00:57<00:00,  8.50it/s]\n"
     ]
    },
    {
     "name": "stdout",
     "output_type": "stream",
     "text": [
      "120641.0 a: 0.9729112903225806\n"
     ]
    },
    {
     "name": "stderr",
     "output_type": "stream",
     "text": [
      "Testing: 100%|██████████| 485/485 [00:04<00:00, 97.42it/s]\n"
     ]
    },
    {
     "name": "stdout",
     "output_type": "stream",
     "text": [
      "24854.0 a: 0.801741935483871\n",
      "test accuracy: 0.801741935483871\n",
      "Best Accuracy: 0.8235\n",
      "epoch 18 is running...\n"
     ]
    },
    {
     "name": "stderr",
     "output_type": "stream",
     "text": [
      "Training: 100%|██████████| 485/485 [00:57<00:00,  8.49it/s]\n"
     ]
    },
    {
     "name": "stdout",
     "output_type": "stream",
     "text": [
      "121242.0 a: 0.977758064516129\n"
     ]
    },
    {
     "name": "stderr",
     "output_type": "stream",
     "text": [
      "Testing: 100%|██████████| 485/485 [00:04<00:00, 97.25it/s]\n"
     ]
    },
    {
     "name": "stdout",
     "output_type": "stream",
     "text": [
      "24905.0 a: 0.8033870967741935\n",
      "test accuracy: 0.8033870967741935\n",
      "Best Accuracy: 0.8235\n",
      "epoch 19 is running...\n"
     ]
    },
    {
     "name": "stderr",
     "output_type": "stream",
     "text": [
      "Training: 100%|██████████| 485/485 [00:57<00:00,  8.48it/s]\n"
     ]
    },
    {
     "name": "stdout",
     "output_type": "stream",
     "text": [
      "121759.0 a: 0.9819274193548387\n"
     ]
    },
    {
     "name": "stderr",
     "output_type": "stream",
     "text": [
      "Testing: 100%|██████████| 485/485 [00:04<00:00, 97.34it/s]\n"
     ]
    },
    {
     "name": "stdout",
     "output_type": "stream",
     "text": [
      "24671.0 a: 0.7958387096774193\n",
      "test accuracy: 0.7958387096774193\n",
      "Best Accuracy: 0.8235\n",
      "epoch 20 is running...\n"
     ]
    },
    {
     "name": "stderr",
     "output_type": "stream",
     "text": [
      "Training: 100%|██████████| 485/485 [00:57<00:00,  8.50it/s]\n"
     ]
    },
    {
     "name": "stdout",
     "output_type": "stream",
     "text": [
      "123160.0 a: 0.993225806451613\n"
     ]
    },
    {
     "name": "stderr",
     "output_type": "stream",
     "text": [
      "Testing: 100%|██████████| 485/485 [00:04<00:00, 97.61it/s]\n"
     ]
    },
    {
     "name": "stdout",
     "output_type": "stream",
     "text": [
      "24986.0 a: 0.806\n",
      "test accuracy: 0.806\n",
      "Best Accuracy: 0.8235\n",
      "epoch 21 is running...\n"
     ]
    },
    {
     "name": "stderr",
     "output_type": "stream",
     "text": [
      "Training: 100%|██████████| 485/485 [00:57<00:00,  8.47it/s]\n"
     ]
    },
    {
     "name": "stdout",
     "output_type": "stream",
     "text": [
      "123705.0 a: 0.9976209677419355\n"
     ]
    },
    {
     "name": "stderr",
     "output_type": "stream",
     "text": [
      "Testing: 100%|██████████| 485/485 [00:05<00:00, 96.88it/s]\n"
     ]
    },
    {
     "name": "stdout",
     "output_type": "stream",
     "text": [
      "24937.0 a: 0.8044193548387096\n",
      "test accuracy: 0.8044193548387096\n",
      "Best Accuracy: 0.8235\n",
      "epoch 22 is running...\n"
     ]
    },
    {
     "name": "stderr",
     "output_type": "stream",
     "text": [
      "Training: 100%|██████████| 485/485 [00:57<00:00,  8.48it/s]\n"
     ]
    },
    {
     "name": "stdout",
     "output_type": "stream",
     "text": [
      "123805.0 a: 0.9984274193548387\n"
     ]
    },
    {
     "name": "stderr",
     "output_type": "stream",
     "text": [
      "Testing: 100%|██████████| 485/485 [00:04<00:00, 97.26it/s]\n"
     ]
    },
    {
     "name": "stdout",
     "output_type": "stream",
     "text": [
      "24929.0 a: 0.8041612903225807\n",
      "test accuracy: 0.8041612903225807\n",
      "Best Accuracy: 0.8235\n",
      "epoch 23 is running...\n"
     ]
    },
    {
     "name": "stderr",
     "output_type": "stream",
     "text": [
      "Training: 100%|██████████| 485/485 [00:56<00:00,  8.51it/s]\n"
     ]
    },
    {
     "name": "stdout",
     "output_type": "stream",
     "text": [
      "123838.0 a: 0.9986935483870968\n"
     ]
    },
    {
     "name": "stderr",
     "output_type": "stream",
     "text": [
      "Testing: 100%|██████████| 485/485 [00:05<00:00, 96.90it/s]\n"
     ]
    },
    {
     "name": "stdout",
     "output_type": "stream",
     "text": [
      "24938.0 a: 0.8044516129032258\n",
      "test accuracy: 0.8044516129032258\n",
      "Best Accuracy: 0.8235\n",
      "epoch 24 is running...\n"
     ]
    },
    {
     "name": "stderr",
     "output_type": "stream",
     "text": [
      "Training: 100%|██████████| 485/485 [00:57<00:00,  8.49it/s]\n"
     ]
    },
    {
     "name": "stdout",
     "output_type": "stream",
     "text": [
      "123856.0 a: 0.9988387096774194\n"
     ]
    },
    {
     "name": "stderr",
     "output_type": "stream",
     "text": [
      "Testing: 100%|██████████| 485/485 [00:04<00:00, 97.03it/s]\n"
     ]
    },
    {
     "name": "stdout",
     "output_type": "stream",
     "text": [
      "24926.0 a: 0.8040645161290323\n",
      "test accuracy: 0.8040645161290323\n",
      "Best Accuracy: 0.8235\n",
      "epoch 25 is running...\n"
     ]
    },
    {
     "name": "stderr",
     "output_type": "stream",
     "text": [
      "Training: 100%|██████████| 485/485 [00:57<00:00,  8.51it/s]\n"
     ]
    },
    {
     "name": "stdout",
     "output_type": "stream",
     "text": [
      "123862.0 a: 0.9988870967741935\n"
     ]
    },
    {
     "name": "stderr",
     "output_type": "stream",
     "text": [
      "Testing: 100%|██████████| 485/485 [00:05<00:00, 96.89it/s]\n"
     ]
    },
    {
     "name": "stdout",
     "output_type": "stream",
     "text": [
      "24939.0 a: 0.804483870967742\n",
      "test accuracy: 0.804483870967742\n",
      "Best Accuracy: 0.8235\n",
      "epoch 26 is running...\n"
     ]
    },
    {
     "name": "stderr",
     "output_type": "stream",
     "text": [
      "Training: 100%|██████████| 485/485 [00:57<00:00,  8.49it/s]\n"
     ]
    },
    {
     "name": "stdout",
     "output_type": "stream",
     "text": [
      "123875.0 a: 0.998991935483871\n"
     ]
    },
    {
     "name": "stderr",
     "output_type": "stream",
     "text": [
      "Testing: 100%|██████████| 485/485 [00:04<00:00, 97.51it/s]\n"
     ]
    },
    {
     "name": "stdout",
     "output_type": "stream",
     "text": [
      "24926.0 a: 0.8040645161290323\n",
      "test accuracy: 0.8040645161290323\n",
      "Best Accuracy: 0.8235\n",
      "epoch 27 is running...\n"
     ]
    },
    {
     "name": "stderr",
     "output_type": "stream",
     "text": [
      "Training: 100%|██████████| 485/485 [00:57<00:00,  8.48it/s]\n"
     ]
    },
    {
     "name": "stdout",
     "output_type": "stream",
     "text": [
      "123883.0 a: 0.9990564516129032\n"
     ]
    },
    {
     "name": "stderr",
     "output_type": "stream",
     "text": [
      "Testing: 100%|██████████| 485/485 [00:04<00:00, 97.78it/s]\n"
     ]
    },
    {
     "name": "stdout",
     "output_type": "stream",
     "text": [
      "24925.0 a: 0.8040322580645162\n",
      "test accuracy: 0.8040322580645162\n",
      "Best Accuracy: 0.8235\n",
      "epoch 28 is running...\n"
     ]
    },
    {
     "name": "stderr",
     "output_type": "stream",
     "text": [
      "Training: 100%|██████████| 485/485 [00:57<00:00,  8.50it/s]\n"
     ]
    },
    {
     "name": "stdout",
     "output_type": "stream",
     "text": [
      "123895.0 a: 0.9991532258064516\n"
     ]
    },
    {
     "name": "stderr",
     "output_type": "stream",
     "text": [
      "Testing: 100%|██████████| 485/485 [00:04<00:00, 97.49it/s]\n"
     ]
    },
    {
     "name": "stdout",
     "output_type": "stream",
     "text": [
      "24919.0 a: 0.8038387096774193\n",
      "test accuracy: 0.8038387096774193\n",
      "Best Accuracy: 0.8235\n",
      "epoch 29 is running...\n"
     ]
    },
    {
     "name": "stderr",
     "output_type": "stream",
     "text": [
      "Training: 100%|██████████| 485/485 [00:57<00:00,  8.49it/s]\n"
     ]
    },
    {
     "name": "stdout",
     "output_type": "stream",
     "text": [
      "123900.0 a: 0.9991935483870967\n"
     ]
    },
    {
     "name": "stderr",
     "output_type": "stream",
     "text": [
      "Testing: 100%|██████████| 485/485 [00:04<00:00, 97.32it/s]\n"
     ]
    },
    {
     "name": "stdout",
     "output_type": "stream",
     "text": [
      "24935.0 a: 0.8043548387096774\n",
      "test accuracy: 0.8043548387096774\n",
      "Best Accuracy: 0.8235\n",
      "epoch 30 is running...\n"
     ]
    },
    {
     "name": "stderr",
     "output_type": "stream",
     "text": [
      "Training: 100%|██████████| 485/485 [00:57<00:00,  8.49it/s]\n"
     ]
    },
    {
     "name": "stdout",
     "output_type": "stream",
     "text": [
      "123910.0 a: 0.9992741935483871\n"
     ]
    },
    {
     "name": "stderr",
     "output_type": "stream",
     "text": [
      "Testing: 100%|██████████| 485/485 [00:04<00:00, 97.25it/s]"
     ]
    },
    {
     "name": "stdout",
     "output_type": "stream",
     "text": [
      "24941.0 a: 0.8045483870967742\n",
      "test accuracy: 0.8045483870967742\n",
      "Best Accuracy: 0.8235\n"
     ]
    },
    {
     "name": "stderr",
     "output_type": "stream",
     "text": [
      "\n"
     ]
    }
   ],
   "source": [
    "best_accuracy=0.0\n",
    "\n",
    "for epoch in range(num_epochs):\n",
    "    print(\"epoch \"+str(epoch+1)+\" is running...\")\n",
    "    if epoch+1 in lr_decay_step:\n",
    "        learning_rate=learning_rate*gamma\n",
    "        for param_group in optimizer.param_groups:\n",
    "            param_group['lr']=learning_rate\n",
    "\n",
    "    current_epoch=epoch+1\n",
    "    train()\n",
    "    test()\n",
    "    print(\"test accuracy:\",test_accuracy)\n",
    "\n",
    "    if test_accuracy > best_accuracy:\n",
    "        best_accuracy=test_accuracy\n",
    "        torch.save(model.state_dict(),os.path.join(\"./\",'model'+str(epoch)+'.pytorch'))\n",
    "\n",
    "    print('Best Accuracy: %.4f' %best_accuracy)"
   ]
  }
 ],
 "metadata": {
  "accelerator": "GPU",
  "colab": {
   "gpuType": "T4",
   "provenance": []
  },
  "kernelspec": {
   "display_name": "Python 3 (ipykernel)",
   "language": "python",
   "name": "python3"
  },
  "language_info": {
   "codemirror_mode": {
    "name": "ipython",
    "version": 3
   },
   "file_extension": ".py",
   "mimetype": "text/x-python",
   "name": "python",
   "nbconvert_exporter": "python",
   "pygments_lexer": "ipython3",
   "version": "3.11.5"
  }
 },
 "nbformat": 4,
 "nbformat_minor": 5
}
